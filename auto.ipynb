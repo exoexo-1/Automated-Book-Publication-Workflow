{
 "cells": [
  {
   "cell_type": "code",
   "execution_count": null,
   "id": "81d6fd01",
   "metadata": {},
   "outputs": [],
   "source": [
    "from playwright.sync_api import sync_playwright\n",
    "\n",
    "with sync_playwright() as p:\n",
    "    browser = p.webkit.launch()\n",
    "    page = browser.new_page()\n",
    "    page.goto(\"https://en.wikisource.org/wiki/The_Gates_of_Morning/Book_1/Chapter_1\")\n",
    "    page.screenshot(path=\"example.png\")\n",
    "    browser.close()"
   ]
  }
 ],
 "metadata": {
  "kernelspec": {
   "display_name": ".venv",
   "language": "python",
   "name": "python3"
  },
  "language_info": {
   "name": "python",
   "version": "3.13.5"
  }
 },
 "nbformat": 4,
 "nbformat_minor": 5
}
